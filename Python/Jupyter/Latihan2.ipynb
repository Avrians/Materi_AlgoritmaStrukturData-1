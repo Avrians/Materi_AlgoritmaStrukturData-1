{
 "cells": [
  {
   "cell_type": "code",
   "execution_count": 4,
   "id": "e0d63061",
   "metadata": {},
   "outputs": [
    {
     "name": "stdout",
     "output_type": "stream",
     "text": [
      "Avriansyah\n",
      "Nama saya adalah  Avriansyah\n",
      "5\n",
      "Angka dalam Float adalah 5.00\n",
      "Ang\n"
     ]
    }
   ],
   "source": [
    "# mencetak kalimat ke layar dalam python\n",
    "namasaya = \"Avriansyah\"\n",
    "print (namasaya)\n",
    "print (\"Nama saya adalah \", namasaya)\n",
    "\n",
    "# mencetak bilangan atau angka menggunakan format penulisan\n",
    "angka = 5\n",
    "print (angka)\n",
    "print (\"Angka dalam Float adalah %2.2f\" %(angka))\n",
    "print (\"Angka dalam Integer adalah %3.1d\" %(angka))"
   ]
  },
  {
   "cell_type": "code",
   "execution_count": 5,
   "id": "1060e3eb",
   "metadata": {},
   "outputs": [
    {
     "name": "stdout",
     "output_type": "stream",
     "text": [
      "angka adalah benar benar sembilan\n",
      "Angkanya adalah Sembilan\n"
     ]
    }
   ],
   "source": [
    "# if statement\n",
    "# di dalam python tidak ada tanda kurung kurawal buka dan tutup '{}'\n",
    "# tanda begin dan end di tandai dengan inden baris sebanyak 5 spasi (atau dapat menggunakan tombol Tab)\n",
    "\n",
    "angka = 9\n",
    "if (angka == 8):\n",
    "    print (\"Angka Adalah Benar\")\n",
    "    \n",
    "# implementasi if ... else\n",
    "if (angka == 9):\n",
    "    print (\"angka adalah benar benar sembilan\")\n",
    "else:\n",
    "    print (\"Angkanya Kacau\")\n",
    "\n",
    "# implementasi if.. elif untuk beberapa kondisi\n",
    "if(angka==8):\n",
    "    print(\"Angkanya adalah Delapan\")\n",
    "elif(angka==9):\n",
    "    print (\"Angkanya adalah Sembilan\")\n",
    "elif(angka==10):\n",
    "    print (\"Angkanya adalah Sepuluh\")\n",
    "else:\n",
    "    print (\"Memasukan Angka yang Benar\")"
   ]
  },
  {
   "cell_type": "code",
   "execution_count": 6,
   "id": "38dcd705",
   "metadata": {},
   "outputs": [
    {
     "name": "stdout",
     "output_type": "stream",
     "text": [
      "0\n",
      "1\n",
      "2\n",
      "3\n",
      "4\n",
      "5\n",
      "6\n",
      "7\n",
      "8\n",
      "9\n",
      "\n",
      "\n",
      "0\n",
      "1\n",
      "2\n",
      "Final x= 2\n"
     ]
    }
   ],
   "source": [
    "# For Statement .. Looping\n",
    "# implementasi mencetak angka dari 0 sampai 9\n",
    "for i in range(0,10):\n",
    "    print(i)\n",
    "    \n",
    "print('\\n')\n",
    "\n",
    "# implementasi for .. else\n",
    "for x in range(3):\n",
    "    print(x)\n",
    "else:\n",
    "    print('Final x= %d' %(x))"
   ]
  },
  {
   "cell_type": "code",
   "execution_count": 7,
   "id": "4652218e",
   "metadata": {},
   "outputs": [
    {
     "name": "stdout",
     "output_type": "stream",
     "text": [
      "Bilangan tersebut adalah bilangan ganjil\n",
      "\n",
      "\n",
      "1 bilangan ganjil\n",
      "2 bilangan genap\n",
      "3 bilangan ganjil\n",
      "4 bilangan genap\n",
      "5 bilangan ganjil\n",
      "6 bilangan genap\n",
      "7 bilangan ganjil\n",
      "8 bilangan genap\n",
      "9 bilangan ganjil\n",
      "10 bilangan genap\n"
     ]
    }
   ],
   "source": [
    "#implementasi menentukan bilangan genap atau ganjil\n",
    "bilangan = 3;\n",
    "if (bilangan%2 == 0):\n",
    "    print(\"Bilangan tersebut adalah bilangan genap\")\n",
    "else:\n",
    "    print (\"Bilangan tersebut adalah bilangan ganjil\")\n",
    "    \n",
    "print('\\n')\n",
    "\n",
    "#implementasi mencetak angka dari 1 sampai 10 dan menentukan jenis bilangan ganjil atau genap\n",
    "for bilanganku in range (1,11):\n",
    "    if(bilanganku%2==0):\n",
    "        print(bilanganku, \"bilangan genap\")\n",
    "    else:\n",
    "        print(bilanganku, \"bilangan ganjil\")"
   ]
  },
  {
   "cell_type": "code",
   "execution_count": null,
   "id": "53f534ee",
   "metadata": {},
   "outputs": [],
   "source": []
  }
 ],
 "metadata": {
  "kernelspec": {
   "display_name": "Python 3",
   "language": "python",
   "name": "python3"
  },
  "language_info": {
   "codemirror_mode": {
    "name": "ipython",
    "version": 3
   },
   "file_extension": ".py",
   "mimetype": "text/x-python",
   "name": "python",
   "nbconvert_exporter": "python",
   "pygments_lexer": "ipython3",
   "version": "3.8.8"
  }
 },
 "nbformat": 4,
 "nbformat_minor": 5
}
