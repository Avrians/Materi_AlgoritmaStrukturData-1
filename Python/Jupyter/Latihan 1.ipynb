{
 "cells": [
  {
   "cell_type": "code",
   "execution_count": 2,
   "id": "cae59a7b",
   "metadata": {},
   "outputs": [
    {
     "name": "stdout",
     "output_type": "stream",
     "text": [
      "68\n"
     ]
    }
   ],
   "source": [
    "#tanda '#' hash hastag digunakan untuk commenting Line\n",
    "i = 23 \n",
    "y = 45 \n",
    "hasil_jumlah = i + y\n",
    "print(hasil_jumlah)"
   ]
  },
  {
   "cell_type": "code",
   "execution_count": 3,
   "id": "e720fcf5",
   "metadata": {},
   "outputs": [
    {
     "name": "stdout",
     "output_type": "stream",
     "text": [
      "Hasil Perkalian Adalah 20 \n"
     ]
    }
   ],
   "source": [
    "# perhitungan perkalian\n",
    "i = 4\n",
    "y = 5\n",
    "hasil_kali = 4 * 5\n",
    "print(\"Hasil Perkalian Adalah %d \"%(hasil_kali))"
   ]
  },
  {
   "cell_type": "code",
   "execution_count": 4,
   "id": "66875d97",
   "metadata": {},
   "outputs": [
    {
     "name": "stdout",
     "output_type": "stream",
     "text": [
      "Nama Saya Adalah Pocoyo\n",
      "Nama Saya Adalah = Pocoyo\n"
     ]
    }
   ],
   "source": [
    "# mencetak String atau kalimat\n",
    "nama_saya = \"Pocoyo\"\n",
    "print(\"Nama Saya Adalah \" + nama_saya)\n",
    "\n",
    "# atau bisa menggunakan format \n",
    "print(\"Nama Saya Adalah = %s\"%(nama_saya))"
   ]
  },
  {
   "cell_type": "code",
   "execution_count": null,
   "id": "2b52cd4b",
   "metadata": {},
   "outputs": [],
   "source": []
  }
 ],
 "metadata": {
  "kernelspec": {
   "display_name": "Python 3",
   "language": "python",
   "name": "python3"
  },
  "language_info": {
   "codemirror_mode": {
    "name": "ipython",
    "version": 3
   },
   "file_extension": ".py",
   "mimetype": "text/x-python",
   "name": "python",
   "nbconvert_exporter": "python",
   "pygments_lexer": "ipython3",
   "version": "3.8.8"
  }
 },
 "nbformat": 4,
 "nbformat_minor": 5
}
